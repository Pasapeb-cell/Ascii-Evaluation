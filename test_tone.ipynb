{
 "cells": [
  {
   "cell_type": "code",
   "execution_count": 1,
   "metadata": {},
   "outputs": [
    {
     "data": {
      "application/vnd.jupyter.widget-view+json": {
       "model_id": "0b288d00aab4460f8f4bc393c854ad0a",
       "version_major": 2,
       "version_minor": 0
      },
      "text/plain": [
       "modules.json:   0%|          | 0.00/122 [00:00<?, ?B/s]"
      ]
     },
     "metadata": {},
     "output_type": "display_data"
    },
    {
     "data": {
      "application/vnd.jupyter.widget-view+json": {
       "model_id": "68658f2c95934277bef5a519f5ec3431",
       "version_major": 2,
       "version_minor": 0
      },
      "text/plain": [
       "config_sentence_transformers.json:   0%|          | 0.00/116 [00:00<?, ?B/s]"
      ]
     },
     "metadata": {},
     "output_type": "display_data"
    },
    {
     "data": {
      "application/vnd.jupyter.widget-view+json": {
       "model_id": "8b0a51ece22a4750ad3267aa7cf67eff",
       "version_major": 2,
       "version_minor": 0
      },
      "text/plain": [
       "README.md:   0%|          | 0.00/1.91k [00:00<?, ?B/s]"
      ]
     },
     "metadata": {},
     "output_type": "display_data"
    },
    {
     "data": {
      "application/vnd.jupyter.widget-view+json": {
       "model_id": "e078cd70778c4754bd116912d93c59dd",
       "version_major": 2,
       "version_minor": 0
      },
      "text/plain": [
       "0_CLIPModel/vocab.json:   0%|          | 0.00/961k [00:00<?, ?B/s]"
      ]
     },
     "metadata": {},
     "output_type": "display_data"
    },
    {
     "data": {
      "application/vnd.jupyter.widget-view+json": {
       "model_id": "6a9ae777538644f0a8a08a77864c892c",
       "version_major": 2,
       "version_minor": 0
      },
      "text/plain": [
       "0_CLIPModel/merges.txt:   0%|          | 0.00/525k [00:00<?, ?B/s]"
      ]
     },
     "metadata": {},
     "output_type": "display_data"
    },
    {
     "data": {
      "application/vnd.jupyter.widget-view+json": {
       "model_id": "0bc400a39aad4d9b9ffb214ce6c858fb",
       "version_major": 2,
       "version_minor": 0
      },
      "text/plain": [
       "0_CLIPModel/config.json:   0%|          | 0.00/4.03k [00:00<?, ?B/s]"
      ]
     },
     "metadata": {},
     "output_type": "display_data"
    },
    {
     "data": {
      "application/vnd.jupyter.widget-view+json": {
       "model_id": "7d8054525d8944ce9a29c04c2a9783b5",
       "version_major": 2,
       "version_minor": 0
      },
      "text/plain": [
       "0_CLIPModel/special_tokens_map.json:   0%|          | 0.00/389 [00:00<?, ?B/s]"
      ]
     },
     "metadata": {},
     "output_type": "display_data"
    },
    {
     "data": {
      "application/vnd.jupyter.widget-view+json": {
       "model_id": "c2bb05bff178428485ee06f41ecf1ca4",
       "version_major": 2,
       "version_minor": 0
      },
      "text/plain": [
       "0_CLIPModel/tokenizer_config.json:   0%|          | 0.00/604 [00:00<?, ?B/s]"
      ]
     },
     "metadata": {},
     "output_type": "display_data"
    },
    {
     "data": {
      "application/vnd.jupyter.widget-view+json": {
       "model_id": "2b32992bea6f466f9d1069bfbf0f1854",
       "version_major": 2,
       "version_minor": 0
      },
      "text/plain": [
       "0_CLIPModel/preprocessor_config.json:   0%|          | 0.00/316 [00:00<?, ?B/s]"
      ]
     },
     "metadata": {},
     "output_type": "display_data"
    },
    {
     "data": {
      "application/vnd.jupyter.widget-view+json": {
       "model_id": "da530a8019064eddb8beafab3c60803f",
       "version_major": 2,
       "version_minor": 0
      },
      "text/plain": [
       "pytorch_model.bin:   0%|          | 0.00/605M [00:00<?, ?B/s]"
      ]
     },
     "metadata": {},
     "output_type": "display_data"
    },
    {
     "name": "stderr",
     "output_type": "stream",
     "text": [
      "/home/pablo/miniconda3/envs/ascii/lib/python3.10/site-packages/torch/_utils.py:831: UserWarning: TypedStorage is deprecated. It will be removed in the future and UntypedStorage will be the only storage class. This should only matter to you if you are using storages directly.  To access UntypedStorage directly, use tensor.untyped_storage() instead of tensor.storage()\n",
      "  return self.fget.__get__(instance, owner)()\n"
     ]
    }
   ],
   "source": [
    "from SketchKeras.sketch_model import SketchKeras\n",
    "import SketchKeras.sketchkeras as SK\n",
    "import torch\n",
    "from torchvision import transforms as T\n",
    "import numpy as np\n",
    "from PIL import Image\n",
    "import cv2\n",
    "from matplotlib import pyplot as plt\n",
    "from sentence_transformers import SentenceTransformer, util\n",
    "from PIL import Image\n",
    "import glob\n",
    "import os\n",
    "\n",
    "model = SentenceTransformer('clip-ViT-B-32')"
   ]
  },
  {
   "cell_type": "code",
   "execution_count": 2,
   "metadata": {},
   "outputs": [],
   "source": [
    "def extract_patches(image, n, m):  \n",
    "    patches = []\n",
    "    image = np.array(image)\n",
    "    height, width = image.shape[:2]\n",
    "    images_height =0\n",
    "    images_width = 0\n",
    "\n",
    "    for y in range(0, height - n + 1, m):\n",
    "        images_height += 1\n",
    "        for x in range(0, width - n + 1, m):  \n",
    "            images_width += 1          \n",
    "            patch = image[y:y+n, x:x+n]\n",
    "            patches.append(patch)\n",
    "    images_width = images_width//images_height\n",
    "\n",
    "    return np.array([patch for patch in patches]), images_width, images_height"
   ]
  },
  {
   "cell_type": "code",
   "execution_count": 3,
   "metadata": {},
   "outputs": [],
   "source": [
    "ascii_imgs, _, _ = extract_patches(Image.open('converted_sit_toyosu.png'), 32, 32)\n",
    "normal_imgs, _, _ = extract_patches(Image.open('sit_toyosu.png'), 32, 32)"
   ]
  },
  {
   "cell_type": "code",
   "execution_count": null,
   "metadata": {},
   "outputs": [],
   "source": [
    "def score_image(image1, image2):\n",
    "    encoded_image = model.encode([image1,image2], batch_size=128, convert_to_tensor=True, show_progress_bar=True)\n",
    "\n",
    "    # Now we run the clustering algorithm. This function compares images aganist \n",
    "    # all other images and returns a list with the pairs that have the highest \n",
    "    # cosine similarity score\n",
    "    processed_images = util.paraphrase_mining_embeddings(encoded_image)\n",
    "    NUM_SIMILAR_IMAGES = 10 \n",
    "\n",
    "    # =================\n",
    "    # DUPLICATES\n",
    "    # =================\n",
    "    print('Finding duplicate images...')\n",
    "    # Filter list for duplicates. Results are triplets (score, image_id1, image_id2) and is scorted in decreasing order\n",
    "    # A duplicate image will have a score of 1.00\n",
    "    # It may be 0.9999 due to lossy image compression (.jpg)\n",
    "    duplicates = [image for image in processed_images if image[0] >= 0.999]\n",
    "\n",
    "    # Output the top X duplicate images\n",
    "    for score, image_id1, image_id2 in duplicates[0:NUM_SIMILAR_IMAGES]:\n",
    "        print(\"\\nScore: {:.3f}%\".format(score * 100))\n",
    "        print(image_names[image_id1])\n",
    "        print(image_names[image_id2])\n",
    "\n",
    "    # =================\n",
    "    # NEAR DUPLICATES\n",
    "    # =================\n",
    "    print('Finding near duplicate images...')\n",
    "    # Use a threshold parameter to identify two images as similar. By setting the threshold lower, \n",
    "    # you will get larger clusters which have less similar images in it. Threshold 0 - 1.00\n",
    "    # A threshold of 1.00 means the two images are exactly the same. Since we are finding near \n",
    "    # duplicate images, we can set it at 0.99 or any number 0 < X < 1.00.\n",
    "    threshold = 0.99\n",
    "    near_duplicates = [image for image in processed_images if image[0] < threshold]\n",
    "\n",
    "    for score, image_id1, image_id2 in near_duplicates[0:NUM_SIMILAR_IMAGES]:\n",
    "        print(\"\\nScore: {:.3f}%\".format(score * 100))\n",
    "        print(image_names[image_id1])\n",
    "        print(image_names[image_id2])"
   ]
  }
 ],
 "metadata": {
  "kernelspec": {
   "display_name": "ascii",
   "language": "python",
   "name": "python3"
  },
  "language_info": {
   "codemirror_mode": {
    "name": "ipython",
    "version": 3
   },
   "file_extension": ".py",
   "mimetype": "text/x-python",
   "name": "python",
   "nbconvert_exporter": "python",
   "pygments_lexer": "ipython3",
   "version": "3.10.0"
  }
 },
 "nbformat": 4,
 "nbformat_minor": 2
}
